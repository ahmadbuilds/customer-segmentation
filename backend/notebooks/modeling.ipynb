{
 "cells": [
  {
   "cell_type": "code",
   "execution_count": 6,
   "id": "9b9691b5",
   "metadata": {},
   "outputs": [
    {
     "name": "stdout",
     "output_type": "stream",
     "text": [
      "     Age  Annual Income (k$)  Spending Score (1-100)  Gender_Female  \\\n",
      "0     19                  15                      39          False   \n",
      "1     21                  15                      81          False   \n",
      "2     20                  16                       6           True   \n",
      "3     23                  16                      77           True   \n",
      "4     31                  17                      40           True   \n",
      "..   ...                 ...                     ...            ...   \n",
      "195   35                 120                      79           True   \n",
      "196   45                 126                      28           True   \n",
      "197   32                 126                      74          False   \n",
      "198   32                 137                      18          False   \n",
      "199   30                 137                      83          False   \n",
      "\n",
      "     Gender_Male  \n",
      "0           True  \n",
      "1           True  \n",
      "2          False  \n",
      "3          False  \n",
      "4          False  \n",
      "..           ...  \n",
      "195        False  \n",
      "196        False  \n",
      "197         True  \n",
      "198         True  \n",
      "199         True  \n",
      "\n",
      "[200 rows x 5 columns]\n"
     ]
    }
   ],
   "source": [
    "import pandas as pd\n",
    "import numpy as np\n",
    "import matplotlib.pyplot as plt\n",
    "from sklearn.preprocessing import StandardScaler\n",
    "from sklearn.cluster import KMeans\n",
    "from sklearn.metrics import silhouette_score\n",
    "from sklearn.pipeline import Pipeline\n",
    "from sklearn.compose import ColumnTransformer\n",
    "from sklearn.preprocessing import OneHotEncoder\n",
    "\n",
    "x_train=pd.read_csv('../data/processed/preprocessed_data.csv')\n",
    "x_train=x_train.drop(columns=['CustomerID'])\n",
    "x_train_binary=pd.get_dummies(x_train,columns=['Gender'])\n",
    "print(x_train_binary)"
   ]
  },
  {
   "cell_type": "code",
   "execution_count": 66,
   "id": "2c18401c",
   "metadata": {},
   "outputs": [
    {
     "name": "stdout",
     "output_type": "stream",
     "text": [
      "                Age  Annual Income (k$)  Spending Score (1-100)\n",
      "clusters                                                       \n",
      "0         53.984615           47.707692               39.969231\n",
      "1         32.875000           86.100000               81.525000\n",
      "2         25.438596           40.000000               60.298246\n",
      "3         39.368421           86.500000               19.578947\n"
     ]
    }
   ],
   "source": [
    "#Building a pipeline for clustering\n",
    "preprocessing=ColumnTransformer(transformers=[\n",
    "    ('num',StandardScaler(),['Age','Annual Income (k$)','Spending Score (1-100)']),\n",
    "    ('cat',OneHotEncoder(),['Gender'])\n",
    "])\n",
    "\n",
    "clustering_pipeline=Pipeline(steps=[\n",
    "    ('preprocessing',preprocessing),\n",
    "    ('kmeans',KMeans(n_clusters=4,random_state=42,max_iter=1000))\n",
    "])\n",
    "\n",
    "clustering_pipeline.fit(x_train)\n",
    "#predicting the clusters\n",
    "clusters=clustering_pipeline.predict(x_train)\n",
    "x_train[\"clusters\"]=clusters\n",
    "\n",
    "cluster_summary=x_train.groupby(\"clusters\")[[\"Age\",\"Annual Income (k$)\",\"Spending Score (1-100)\"]].mean()\n",
    "print(cluster_summary)"
   ]
  }
 ],
 "metadata": {
  "kernelspec": {
   "display_name": "Python 3",
   "language": "python",
   "name": "python3"
  },
  "language_info": {
   "codemirror_mode": {
    "name": "ipython",
    "version": 3
   },
   "file_extension": ".py",
   "mimetype": "text/x-python",
   "name": "python",
   "nbconvert_exporter": "python",
   "pygments_lexer": "ipython3",
   "version": "3.11.4"
  }
 },
 "nbformat": 4,
 "nbformat_minor": 5
}
